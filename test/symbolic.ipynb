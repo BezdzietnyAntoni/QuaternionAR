{
 "cells": [
  {
   "cell_type": "code",
   "execution_count": 1,
   "metadata": {},
   "outputs": [],
   "source": [
    "import sympy as sp"
   ]
  },
  {
   "cell_type": "code",
   "execution_count": 33,
   "metadata": {},
   "outputs": [],
   "source": [
    "def quat(a):\n",
    "    return sp.algebras.Quaternion(a, a, a, a, real_field=False)"
   ]
  },
  {
   "cell_type": "markdown",
   "metadata": {},
   "source": []
  },
  {
   "cell_type": "code",
   "execution_count": 11,
   "metadata": {},
   "outputs": [],
   "source": [
    "r_v = sp.symbols('r:10')\n",
    "a_v = sp.symbols('a:10')"
   ]
  },
  {
   "cell_type": "code",
   "execution_count": 71,
   "metadata": {},
   "outputs": [
    {
     "ename": "AttributeError",
     "evalue": "module 'sympy' has no attribute 'Sub'",
     "output_type": "error",
     "traceback": [
      "\u001b[0;31m---------------------------------------------------------------------------\u001b[0m",
      "\u001b[0;31mAttributeError\u001b[0m                            Traceback (most recent call last)",
      "Cell \u001b[0;32mIn[71], line 1\u001b[0m\n\u001b[0;32m----> 1\u001b[0m a1 \u001b[39m=\u001b[39m sp\u001b[39m.\u001b[39;49mSub(sp\u001b[39m.\u001b[39malgebras\u001b[39m.\u001b[39mQuaternion(r_v[\u001b[39m1\u001b[39m],r_v[\u001b[39m1\u001b[39m],r_v[\u001b[39m1\u001b[39m],r_v[\u001b[39m1\u001b[39m]), sp\u001b[39m.\u001b[39malgebras\u001b[39m.\u001b[39mQuaternion(r_v[\u001b[39m1\u001b[39m],r_v[\u001b[39m1\u001b[39m],r_v[\u001b[39m1\u001b[39m],r_v[\u001b[39m1\u001b[39m]))\n\u001b[1;32m      2\u001b[0m a1\n",
      "\u001b[0;31mAttributeError\u001b[0m: module 'sympy' has no attribute 'Sub'"
     ]
    }
   ],
   "source": [
    "a1 = sp.Sub(sp.algebras.Quaternion(r_v[1],r_v[1],r_v[1],r_v[1]), sp.algebras.Quaternion(r_v[1],r_v[1],r_v[1],r_v[1]))\n",
    "a1"
   ]
  },
  {
   "cell_type": "markdown",
   "metadata": {},
   "source": [
    "Tak, chętnie pomogę ci uprosić to wyrażenie. Aby to zrobić, musimy najpierw przeprowadzić wszystkie działania arytmetyczne w odpowiedniej kolejności, tj. najpierw mnożenia i dzielenia, a następnie dodawanie i odejmowanie. Pamiętaj, że w przypadku mnożenia i dzielenia kwaternionów należy przeprowadzić je jak dla zwykłych liczb, z tym że trzeba pamiętać o dodawaniu i odejmowaniu odpowiednich jednostek kwaternionowych.\n",
    "\n",
    "Ponieważ w twoim wyrażeniu nie ma znaków nawiasów, musimy założyć, że działania arytmetyczne są wykonywane w kolejności od lewej do prawej. W takim przypadku wyrażenie q0q1/q0 - (q2-q1/q0q1)/(q0-q1/q0*q1)*q1/q0 można uprosić następująco:\n",
    "\n",
    "    Najpierw obliczamy q0*q1/q0, czyli q1.\n",
    "    Następnie obliczamy q1/q0*q1, czyli q1^2/q0.\n",
    "    Teraz możemy obliczyć składnik (q2-q1/q0*q1) w nawiasie, czyli q2-q1^2/q0.\n",
    "    Kolejnym krokiem jest obliczenie q0-q1/q0*q1, czyli q0-q1^2/q0.\n",
    "    Teraz możemy obliczyć cały nawias (q2-q1/q0q1)/(q0-q1/q0q1), czyli (q2-q1^2/q0)/(q0-q1^2/q0).\n",
    "    Ostatnim krokiem jest obliczenie całego wyrażenia, czyli q1 - (q2-q1^2/q0)/(q0-q1^2/q0)*q1/q0.\n",
    "\n",
    "Uproszczając to jeszcze bardziej, można uzyskać wynik równy q1 - q1^3/q0^2 + q1^2/q0 = q1 - q1^2(1/q0^2 - 1/q0) = q1 - q1^2/q0("
   ]
  },
  {
   "cell_type": "code",
   "execution_count": null,
   "metadata": {},
   "outputs": [],
   "source": [
    "a = quat(r_v[1])\n",
    "b = quat(r_v[2])\n",
    "a.d"
   ]
  }
 ],
 "metadata": {
  "kernelspec": {
   "display_name": "Python 3.8.10 ('venv': venv)",
   "language": "python",
   "name": "python3"
  },
  "language_info": {
   "codemirror_mode": {
    "name": "ipython",
    "version": 3
   },
   "file_extension": ".py",
   "mimetype": "text/x-python",
   "name": "python",
   "nbconvert_exporter": "python",
   "pygments_lexer": "ipython3",
   "version": "3.8.10"
  },
  "orig_nbformat": 4,
  "vscode": {
   "interpreter": {
    "hash": "4799ffdaddeaedd4290fed8e984842a9668453a3ef44e7818f9d19e5e2def42c"
   }
  }
 },
 "nbformat": 4,
 "nbformat_minor": 2
}
