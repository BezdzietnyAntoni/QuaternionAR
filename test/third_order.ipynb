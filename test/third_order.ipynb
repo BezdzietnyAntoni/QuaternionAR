{
 "cells": [
  {
   "cell_type": "code",
   "execution_count": 1,
   "metadata": {},
   "outputs": [],
   "source": [
    "import numpy as np\n",
    "import quaternion as qt"
   ]
  },
  {
   "cell_type": "code",
   "execution_count": 23,
   "metadata": {},
   "outputs": [],
   "source": [
    "r0 = np.quaternion(3,5,8,4).normalized()\n",
    "r1 = np.quaternion(11,31,11,11).normalized()\n",
    "r2 = np.quaternion(23,22,25,27).normalized()\n",
    "r3 = np.quaternion(253,242,2475,237).normalized()\n",
    "r4 = np.quaternion(2153,2422,2735,2344).normalized()"
   ]
  },
  {
   "cell_type": "code",
   "execution_count": 27,
   "metadata": {},
   "outputs": [
    {
     "name": "stdout",
     "output_type": "stream",
     "text": [
      "quaternion(0.302307340461122, 0.851957050390435, 0.302307340461122, 0.302307340461122)\n",
      "quaternion(0.302307340461122, 0.851957050390435, 0.302307340461122, 0.302307340461122)\n",
      "quaternion(0.302307340461122, 0.851957050390435, 0.302307340461122, 0.302307340461122)\n",
      "quaternion(0.302307340461122, 0.851957050390435, 0.302307340461122, 0.302307340461122)\n",
      "\n",
      "quaternion(0.472746918916626, 0.452192705050685, 0.513855346648506, 0.554963774380387)\n",
      "quaternion(0.472746918916626, 0.452192705050686, 0.513855346648506, 0.554963774380387)\n",
      "quaternion(0.472746918916626, 0.452192705050686, 0.513855346648506, 0.554963774380387)\n",
      "\n",
      "quaternion(0.100762695699581, 0.0963817089300335, 0.98572202314807, 0.0943903513075122)\n",
      "quaternion(0.10076269569958, 0.0963817089300336, 0.98572202314807, 0.0943903513075119)\n",
      "\n",
      "quaternion(0.444356441220936, 0.499875197694894, 0.564475089056786, 0.483776822211739)\n",
      "quaternion(0.444356441220936, 0.499875197694894, 0.564475089056786, 0.483776822211739)\n"
     ]
    }
   ],
   "source": [
    "a11 = r1 / r0\n",
    "\n",
    "a22 = (r2 - (a11*r1)) / (r0 - a11*r1) \n",
    "a21 = a11 - a22*a11\n",
    "\n",
    "a33 = (r3 - (a21*r2 + a22*r1)) / (r0 - (a22*r2 + a21*r1))\n",
    "a31 = a21-a33*a22\n",
    "a32 = a22-a33*a21\n",
    "\n",
    "a44 = (r4 - (a31*r3 + a32*r2 + a33*r1)) / (r0 - (a33*r3 + a32*r2 + a31*r1))\n",
    "a41 = a31-a44*a33\n",
    "a42 = a32-a44*a32\n",
    "a43 = a33-a44*a31\n",
    "\n",
    "\n",
    "print(r1)\n",
    "print(a11 * r0)\n",
    "print((a21 * r0 + a22 * r1).normalized())\n",
    "print((a31 * r0 + a32 * r1 + a33 * r2).normalized())\n",
    "\n",
    "print()\n",
    "print(r2)\n",
    "print((a21 * r1 + a22 * r0).normalized())\n",
    "print((a31 * r1 + a32 * r0 + a33 * r1).normalized())\n",
    "\n",
    "print()\n",
    "print(r3)\n",
    "print((a31 * r2 + a32 * r1 + a33 * r0).normalized())\n",
    "\n",
    "\n",
    "print()\n",
    "print(r4)\n",
    "print((a41 * r3 + a42 * r2 + a43 * r1 + a44 * r0).normalized())\n",
    " "
   ]
  },
  {
   "cell_type": "code",
   "execution_count": 28,
   "metadata": {},
   "outputs": [],
   "source": [
    "def compute_coefficient_LD(r_matrix: np.ndarray, M_order: int) -> np.ndarray:\n",
    "    \n",
    "    a_arr = np.zeros((0), dtype = np.quaternion)\n",
    "    \n",
    "    # Step 1: P=0 -> a0 = 1\n",
    "    # Step 2: P=1\n",
    "    a_arr = np.append(a_arr, r_matrix[1,0] / r_matrix[1,1])\n",
    "\n",
    "    # Step 3: Iterative for P in (1 : M_order)\n",
    "    for i in range(1, M_order):\n",
    "        nominator   = r_matrix[i+1, 0] - np.sum(a_arr * r_matrix[i, :i])\n",
    "        denominator = r_matrix[i+1, i+1] - np.sum(a_arr[::-1] * r_matrix[i, :i])\n",
    "        temp_a = nominator / denominator\n",
    "        a_arr = np.append(a_arr, temp_\n",
    "                [r3, r2, r1, r0, r1],a)\n",
    "\n",
    "        # Coeff actualization \n",
    "        for j in range(i):\n",
    "            a_arr[j] = a_arr[j] - temp_a * a_arr[i-j-1]\n",
    "    \n",
    "    return a_arr"
   ]
  },
  {
   "cell_type": "code",
   "execution_count": 38,
   "metadata": {},
   "outputs": [
    {
     "name": "stdout",
     "output_type": "stream",
     "text": [
      "quaternion(0.302307340461122, 0.851957050390435, 0.302307340461122, 0.302307340461122)\n",
      "quaternion(0.752907654581076, -0.159400537657862, -0.635509900062409, -0.0620378851209137)\n"
     ]
    }
   ],
   "source": [
    "bbb = np.array([[r0, r1, r2, r3, r4], \n",
    "                [r1, r0, r1, r2, r3], \n",
    "                [r2, r1, r0, r1, r2],\n",
    "                [r3, r2, r1, r0, r1],\n",
    "                [r4, r3, r2, r1, r0]])\n",
    "\n",
    "a = compute_coefficient_LD(bbb, 4)\n",
    "print(r1)\n",
    "print((a[0]*r0).normalized())\n"
   ]
  }
 ],
 "metadata": {
  "kernelspec": {
   "display_name": "Python 3.8.10 ('venv': venv)",
   "language": "python",
   "name": "python3"
  },
  "language_info": {
   "codemirror_mode": {
    "name": "ipython",
    "version": 3
   },
   "file_extension": ".py",
   "mimetype": "text/x-python",
   "name": "python",
   "nbconvert_exporter": "python",
   "pygments_lexer": "ipython3",
   "version": "3.8.10"
  },
  "orig_nbformat": 4,
  "vscode": {
   "interpreter": {
    "hash": "4799ffdaddeaedd4290fed8e984842a9668453a3ef44e7818f9d19e5e2def42c"
   }
  }
 },
 "nbformat": 4,
 "nbformat_minor": 2
}
