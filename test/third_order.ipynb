{
 "cells": [
  {
   "cell_type": "code",
   "execution_count": null,
   "metadata": {},
   "outputs": [],
   "source": []
  },
  {
   "cell_type": "markdown",
   "metadata": {},
   "source": [
    "$$\n",
    "\\begin{align*}\n",
    "(q0 - q1*q2 + q3*q4)^{-1} &= (q0 + q3*q4 - q1*q2)^{-1} \\\\\n",
    "&= \\frac{\\overline{q0 + q3*q4 - q1*q2}}{\\left|q0 + q3*q4 - q1*q2\\right|^2}\n",
    "\\end{align*}\n",
    "$$\n"
   ]
  },
  {
   "cell_type": "markdown",
   "metadata": {},
   "source": []
  }
 ],
 "metadata": {
  "kernelspec": {
   "display_name": "Python 3.8.10 ('venv': venv)",
   "language": "python",
   "name": "python3"
  },
  "language_info": {
   "name": "python",
   "version": "3.8.10"
  },
  "orig_nbformat": 4,
  "vscode": {
   "interpreter": {
    "hash": "4799ffdaddeaedd4290fed8e984842a9668453a3ef44e7818f9d19e5e2def42c"
   }
  }
 },
 "nbformat": 4,
 "nbformat_minor": 2
}
