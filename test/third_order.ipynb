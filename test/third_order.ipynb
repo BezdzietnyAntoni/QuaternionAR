{
 "cells": [
  {
   "cell_type": "code",
   "execution_count": 1,
   "metadata": {},
   "outputs": [],
   "source": [
    "import numpy as np\n",
    "import quaternion as qt"
   ]
  },
  {
   "cell_type": "code",
   "execution_count": 14,
   "metadata": {},
   "outputs": [],
   "source": [
    "import random \n",
    "def rand_quaternion() -> np.quaternion:\n",
    "    \"\"\"\n",
    "        Generate random normalized quaternion\n",
    "    Returns:\n",
    "        np.quaternion: Normalized quaternion\n",
    "    \"\"\"\n",
    "    return np.quaternion(random.random(),\n",
    "                         random.random(),\n",
    "                         random.random(),\n",
    "                         random.random()).normalized()\n",
    "\n",
    "\n",
    "def rand_toeplitz_matrix(dim: int) -> np.ndarray:\n",
    "    matrix = np.zeros((dim, dim), dtype = np.quaternion)\n",
    "    for i in range(dim):\n",
    "        val = rand_quaternion()\n",
    "        np.fill_diagonal(matrix[:,i:], val)\n",
    "        np.fill_diagonal(matrix[i:,:], val)\n",
    "    \n",
    "    return matrix"
   ]
  },
  {
   "cell_type": "code",
   "execution_count": 76,
   "metadata": {},
   "outputs": [],
   "source": [
    "dim = 10\n",
    "matrix = rand_toeplitz_matrix(dim)\n",
    "\n",
    "a_arr = np.zeros((0), dtype = np.quaternion)\n",
    "\n",
    "N = dim - 1\n",
    "# P=1\n",
    "a_arr = np.append(a_arr, matrix[1, 0] / matrix[0, 0])\n",
    "\n",
    "# P=(2 ... N\n",
    "for i in range(1, N):\n",
    "    nominator   = matrix[i+1, 0] - np.sum(a_arr * matrix[i,:i])\n",
    "    denominator = matrix[i, i]   - np.sum(a_arr[::-1] * matrix[i,:i])\n",
    "    temp_a = nominator / denominator\n",
    "    \n",
    "    # Coefficients update \n",
    "    a_arr = a_arr - temp_a * a_arr[::-1]\n",
    "\n",
    "    # Add coefficient \n",
    "    a_arr = np.append(a_arr, temp_a)\n"
   ]
  },
  {
   "cell_type": "code",
   "execution_count": 91,
   "metadata": {},
   "outputs": [
    {
     "name": "stdout",
     "output_type": "stream",
     "text": [
      "R{i} :\n",
      "quaternion(0.559442765748711, 0.662557742318464, 0.380237013798231, 0.321653296707957)\n",
      "quaternion(0.638144815313159, 0.318998448774093, 0.598287759518511, 0.364777934062597)\n",
      "R{i} :\n",
      "quaternion(0.512449598155638, 0.310196110260115, 0.409937983346783, 0.687840557352642)\n"
     ]
    },
    {
     "ename": "ValueError",
     "evalue": "operands could not be broadcast together with shapes (9,) (10,) ",
     "output_type": "error",
     "traceback": [
      "\u001b[0;31m---------------------------------------------------------------------------\u001b[0m",
      "\u001b[0;31mValueError\u001b[0m                                Traceback (most recent call last)",
      "Cell \u001b[0;32mIn[91], line 6\u001b[0m\n\u001b[1;32m      4\u001b[0m \u001b[39mprint\u001b[39m(\u001b[39m\"\u001b[39m\u001b[39mR\u001b[39m\u001b[39m{i}\u001b[39;00m\u001b[39m :\u001b[39m\u001b[39m\"\u001b[39m)\n\u001b[1;32m      5\u001b[0m \u001b[39mprint\u001b[39m(cor_vec[i])\n\u001b[0;32m----> 6\u001b[0m \u001b[39mprint\u001b[39m(np\u001b[39m.\u001b[39msum(a_arr \u001b[39m*\u001b[39;49m cor_vec[a_size \u001b[39m-\u001b[39;49m i \u001b[39m-\u001b[39;49m\u001b[39m1\u001b[39;49m : \u001b[39m2\u001b[39;49m \u001b[39m*\u001b[39;49m a_size])\u001b[39m.\u001b[39mnormalized())\n",
      "\u001b[0;31mValueError\u001b[0m: operands could not be broadcast together with shapes (9,) (10,) "
     ]
    }
   ],
   "source": [
    "cor_vec = np.append(matrix[-2,:-1], matrix[-2,:-2][::-1])\n",
    "a_size = a_arr.shape[0] - 1\n",
    "for i in range(a_size):\n",
    "    print(\"R{i} :\")\n",
    "    print(cor_vec[i])\n",
    "    print(np.sum(a_arr * cor_vec[a_size - i -1 : 2 * a_size]).normalized())"
   ]
  },
  {
   "cell_type": "code",
   "execution_count": 92,
   "metadata": {},
   "outputs": [
    {
     "data": {
      "text/plain": [
       "array([quaternion(0.559442765748711, 0.662557742318464, 0.380237013798231, 0.321653296707957),\n",
       "       quaternion(0.512449598155638, 0.310196110260115, 0.409937983346783, 0.687840557352642),\n",
       "       quaternion(0.166339195171482, 0.682439689749894, 0.508801795299138, 0.497722889873618),\n",
       "       quaternion(0.379337966843887, 0.648860518395294, 0.587961806420068, 0.298970983156873),\n",
       "       quaternion(0.0652074038829335, 0.688347792925203, 0.692171049034183, 0.206940931989707),\n",
       "       quaternion(0.454198021357789, 0.366616168468539, 0.563075344113422, 0.585015298315923),\n",
       "       quaternion(0.638144815313159, 0.318998448774093, 0.598287759518511, 0.364777934062597),\n",
       "       quaternion(0.0748478574109497, 0.41423120190204, 0.728221731843197, 0.540835852068885),\n",
       "       quaternion(0.506689490262829, 0.485843384290287, 0.417811177596808, 0.576763197745595),\n",
       "       quaternion(0.0748478574109497, 0.41423120190204, 0.728221731843197, 0.540835852068885),\n",
       "       quaternion(0.638144815313159, 0.318998448774093, 0.598287759518511, 0.364777934062597),\n",
       "       quaternion(0.454198021357789, 0.366616168468539, 0.563075344113422, 0.585015298315923),\n",
       "       quaternion(0.0652074038829335, 0.688347792925203, 0.692171049034183, 0.206940931989707),\n",
       "       quaternion(0.379337966843887, 0.648860518395294, 0.587961806420068, 0.298970983156873),\n",
       "       quaternion(0.166339195171482, 0.682439689749894, 0.508801795299138, 0.497722889873618),\n",
       "       quaternion(0.512449598155638, 0.310196110260115, 0.409937983346783, 0.687840557352642),\n",
       "       quaternion(0.559442765748711, 0.662557742318464, 0.380237013798231, 0.321653296707957)],\n",
       "      dtype=quaternion)"
      ]
     },
     "execution_count": 92,
     "metadata": {},
     "output_type": "execute_result"
    }
   ],
   "source": [
    "cor_vec"
   ]
  },
  {
   "cell_type": "code",
   "execution_count": 67,
   "metadata": {},
   "outputs": [
    {
     "name": "stdout",
     "output_type": "stream",
     "text": [
      "[quaternion(-0.213799740480049, 0.127564345070924, -0.560301744652265, 0.789986685822564)\n",
      " quaternion(0.749019233421887, -0.122062717694949, 0.0329868615217459, -0.650371238509174)\n",
      " quaternion(-0.677570949039879, -0.410949516210472, -0.128739512538947, 0.596191447485463)]\n",
      "quaternion(-0.213799740480049, 0.127564345070924, -0.560301744652265, 0.789986685822564)\n",
      "quaternion(0.749019233421887, -0.122062717694949, 0.0329868615217459, -0.650371238509174)\n",
      "quaternion(-0.677570949039879, -0.410949516210472, -0.128739512538947, 0.596191447485463)\n"
     ]
    },
    {
     "data": {
      "text/plain": [
       "'\\na33 = (matrix[3,0] - (a21*matrix[2,0] + a22*matrix[2,1])) / (matrix[0,0] - (a22*matrix[2,0] + a21*matrix[2,1]))\\na31 = a21-a33*a22\\na32 = a22-a33*a21\\n\\n\\n\\na44 = (matrix[4,0] - (a31*matrix[3,0] + a32*matrix[3,1] + a33*matrix[3,2])) / (matrix[0,0] - (a33*matrix[3,0] + a32*matrix[3,1] + a31*matrix[3,2]))\\na41 = a31-a44*a33\\na42 = a32-a44*a32\\na43 = a33-a44*a31\\n\\nprint(a41)\\nprint(a42)\\nprint(a43)\\nprint(a44)\\n\\nprint(matrix[4,0])\\nprint((a41 * matrix[3,0] + a42 * matrix[2,0] + a43 * matrix[1,0] + a44 * matrix[0,0]).normalized())\\n'"
      ]
     },
     "execution_count": 67,
     "metadata": {},
     "output_type": "execute_result"
    }
   ],
   "source": [
    "a_ = np.zeros((0), dtype = np.quaternion)\n",
    "a_ = np.append(a_, matrix[1,0] / matrix[0,0])\n",
    "\n",
    "a_tmp = (matrix[2,0] - (a_[0]*matrix[1,0])) / (matrix[0,0] - a_[::-1][0]*matrix[1,0]) \n",
    "a_[0] = a_[0] - a_tmp*a_[0]\n",
    "a_ = np.append(a_, a_tmp)\n",
    "\n",
    "a_tmp = (matrix[3,0] - np.sum(a_*matrix[2,:2])) / (matrix[0,0] - np.sum(a_[::-1]*matrix[2,:2]))\n",
    "a_ = a_-a_tmp*a_[::-1]\n",
    "a_ = np.append(a_, a_tmp)\n",
    "\n",
    "\n",
    "\n",
    "print(np.normalized(a_))\n",
    "\n",
    "\n",
    "\n",
    "\n",
    "a11 = matrix[1,0] / matrix[0,0]\n",
    "\n",
    "a22 = (matrix[2,0] - (a11*matrix[1,0])) / (matrix[0,0] - a11*matrix[1,0]) \n",
    "a21 = a11 - a22*a11\n",
    "\n",
    "a33 = (matrix[3,0] - (a21*matrix[2,0] + a22*matrix[2,1])) / (matrix[0,0] - (a22*matrix[2,0] + a21*matrix[2,1]))\n",
    "a31 = a21-a33*a22\n",
    "a32 = a22-a33*a21\n",
    "\n",
    "print(a31.normalized())\n",
    "print(a32.normalized())\n",
    "print(a33.normalized())\n",
    "\n",
    "\n",
    "\"\"\"\n",
    "a33 = (matrix[3,0] - (a21*matrix[2,0] + a22*matrix[2,1])) / (matrix[0,0] - (a22*matrix[2,0] + a21*matrix[2,1]))\n",
    "a31 = a21-a33*a22\n",
    "a32 = a22-a33*a21\n",
    "\n",
    "\n",
    "\n",
    "a44 = (matrix[4,0] - (a31*matrix[3,0] + a32*matrix[3,1] + a33*matrix[3,2])) / (matrix[0,0] - (a33*matrix[3,0] + a32*matrix[3,1] + a31*matrix[3,2]))\n",
    "a41 = a31-a44*a33\n",
    "a42 = a32-a44*a32\n",
    "a43 = a33-a44*a31\n",
    "\n",
    "print(a41)\n",
    "print(a42)\n",
    "print(a43)\n",
    "print(a44)\n",
    "\n",
    "print(matrix[4,0])\n",
    "print((a41 * matrix[3,0] + a42 * matrix[2,0] + a43 * matrix[1,0] + a44 * matrix[0,0]).normalized())\n",
    "\"\"\""
   ]
  },
  {
   "cell_type": "code",
   "execution_count": 71,
   "metadata": {},
   "outputs": [
    {
     "name": "stdout",
     "output_type": "stream",
     "text": [
      "quaternion(-0.456880197593261, -0.405562299326203, -0.734865274008377, -0.294538173194885)\n",
      "quaternion(0.953804402160619, 0.114968757130596, 0.277557160267026, 0.00117050731503789)\n",
      "quaternion(-0.882817442518253, 0.442105212849154, -0.148584853405307, -0.0556676323877662)\n",
      "quaternion(0.84009891790067, 0.342738286607516, 0.398041965336593, 0.135376766346554)\n"
     ]
    }
   ],
   "source": [
    "a11 = matrix[1,0] / matrix[0,0]\n",
    "\n",
    "a22 = (matrix[2,0] - (a11*matrix[1,0])) / (matrix[0,0] - a11*matrix[1,0]) \n",
    "a21 = a11 - a22*a11\n",
    "\n",
    "a33 = (matrix[3,0] - (a21*matrix[2,0] + a22*matrix[1,0])) / (matrix[0,0] - (a22*matrix[2,0] + a21*matrix[1,0]))\n",
    "a31 = a21-a33*a22\n",
    "a32 = a22-a33*a21\n",
    "\n",
    "a44 = (matrix[4,0] - (a31*matrix[3,0] + a32*matrix[2,0] + a33*matrix[1,0])) / (matrix[0,0] - (a33*matrix[3,0] + a32*matrix[2,0] + a31*matrix[1,0]))\n",
    "a41 = a31-a44*a33\n",
    "a42 = a32-a44*a32\n",
    "a43 = a33-a44*a31\n",
    "\n",
    "print(a41.normalized())\n",
    "print(a42.normalized())\n",
    "print(a43.normalized())\n",
    "print(a44.normalized())"
   ]
  },
  {
   "cell_type": "code",
   "execution_count": 78,
   "metadata": {},
   "outputs": [
    {
     "name": "stdout",
     "output_type": "stream",
     "text": [
      "[quaternion(-0.146801458930102, -0.72829921451292, -0.604743641091738, 0.286905410117977)\n",
      " quaternion(0.505713969305362, 0.10319871482944, 0.0699354655709509, -0.853646552832226)\n",
      " quaternion(-0.594381354516432, -0.689463561924668, 0.0660967665589639, -0.408634334866529)\n",
      " quaternion(0.363560024426725, 0.131669715815897, 0.142076305746335, 0.911208822346049)\n",
      " quaternion(0.727540440218512, 0.509909681111077, 0.349569944286154, 0.297452313838082)\n",
      " quaternion(0.315578481273348, 0.809821814395416, -0.161206249226561, 0.467558976276606)\n",
      " quaternion(-0.786144498972269, -0.574196352130471, 0.21694557992165, 0.0721802693827022)\n",
      " quaternion(0.503778166712586, 0.687867542413385, 0.40982070466563, -0.324180185799877)\n",
      " quaternion(0.46043292304154, -0.658526684124608, -0.580694191568835, -0.130913656863937)]\n",
      "quaternion(0.438094658107968, 0.050985702569095, 0.601929300586064, 0.665698614815121)\n",
      "quaternion(0.438094658107968, 0.0509857025690951, 0.601929300586064, 0.665698614815121)\n"
     ]
    }
   ],
   "source": [
    "print(np.normalized(a_arr))\n",
    "print(np.sum(a_arr*matrix[8,:-1]).normalized())\n",
    "print(matrix[9,0])"
   ]
  },
  {
   "cell_type": "code",
   "execution_count": null,
   "metadata": {},
   "outputs": [],
   "source": [
    "r0 = np.quaternion(3,5,8,4).normalized()\n",
    "r1 = np.quaternion(11,31,11,11).normalized()\n",
    "r2 = np.quaternion(23,22,25,27).normalized()\n",
    "r3 = np.quaternion(253,242,2475,237).normalized()\n",
    "r4 = np.quaternion(2153,2422,2735,2344).normalized()"
   ]
  },
  {
   "cell_type": "code",
   "execution_count": 27,
   "metadata": {},
   "outputs": [
    {
     "name": "stdout",
     "output_type": "stream",
     "text": [
      "quaternion(-0.378177673217802, -0.154473720069545, 0.277172678616955, 0.869652127873984)\n",
      "quaternion(-1.05003007233723, 0.417274596659599, 0.685289322208128, 1.10451170578966)\n"
     ]
    }
   ],
   "source": [
    "a = r0\n",
    "a = np.append(a, r1)\n",
    "b = np.array([r2, r3])\n",
    "\n",
    "print((a * b)[::-1][0])\n",
    "print(a[0] * b[0] + a[1] * b[1])\n"
   ]
  },
  {
   "cell_type": "code",
   "execution_count": 27,
   "metadata": {},
   "outputs": [
    {
     "name": "stdout",
     "output_type": "stream",
     "text": [
      "quaternion(0.302307340461122, 0.851957050390435, 0.302307340461122, 0.302307340461122)\n",
      "quaternion(0.302307340461122, 0.851957050390435, 0.302307340461122, 0.302307340461122)\n",
      "quaternion(0.302307340461122, 0.851957050390435, 0.302307340461122, 0.302307340461122)\n",
      "quaternion(0.302307340461122, 0.851957050390435, 0.302307340461122, 0.302307340461122)\n",
      "\n",
      "quaternion(0.472746918916626, 0.452192705050685, 0.513855346648506, 0.554963774380387)\n",
      "quaternion(0.472746918916626, 0.452192705050686, 0.513855346648506, 0.554963774380387)\n",
      "quaternion(0.472746918916626, 0.452192705050686, 0.513855346648506, 0.554963774380387)\n",
      "\n",
      "quaternion(0.100762695699581, 0.0963817089300335, 0.98572202314807, 0.0943903513075122)\n",
      "quaternion(0.10076269569958, 0.0963817089300336, 0.98572202314807, 0.0943903513075119)\n",
      "\n",
      "quaternion(0.444356441220936, 0.499875197694894, 0.564475089056786, 0.483776822211739)\n",
      "quaternion(0.444356441220936, 0.499875197694894, 0.564475089056786, 0.483776822211739)\n"
     ]
    }
   ],
   "source": [
    "a11 = r1 / r0\n",
    "\n",
    "a22 = (r2 - (a11*r1)) / (r0 - a11*r1) \n",
    "a21 = a11 - a22*a11\n",
    "\n",
    "a33 = (r3 - (a21*r2 + a22*r1)) / (r0 - (a22*r2 + a21*r1))\n",
    "a31 = a21-a33*a22\n",
    "a32 = a22-a33*a21\n",
    "\n",
    "a44 = (r4 - (a31*r3 + a32*r2 + a33*r1)) / (r0 - (a33*r3 + a32*r2 + a31*r1))\n",
    "a41 = a31-a44*a33\n",
    "a42 = a32-a44*a32\n",
    "a43 = a33-a44*a31\n",
    "\n",
    "\n",
    "print(r1)\n",
    "print(a11 * r0)\n",
    "print((a21 * r0 + a22 * r1).normalized())\n",
    "print((a31 * r0 + a32 * r1 + a33 * r2).normalized())\n",
    "\n",
    "print()\n",
    "print(r2)\n",
    "print((a21 * r1 + a22 * r0).normalized())\n",
    "print((a31 * r1 + a32 * r0 + a33 * r1).normalized())\n",
    "\n",
    "print()\n",
    "print(r3)\n",
    "print((a31 * r2 + a32 * r1 + a33 * r0).normalized())\n",
    "\n",
    "\n",
    "print()\n",
    "print(r4)\n",
    "print((a41 * r3 + a42 * r2 + a43 * r1 + a44 * r0).normalized())\n",
    " "
   ]
  },
  {
   "cell_type": "code",
   "execution_count": 28,
   "metadata": {},
   "outputs": [],
   "source": [
    "def compute_coefficient_LD(r_matrix: np.ndarray, M_order: int) -> np.ndarray:\n",
    "    \n",
    "    a_arr = np.zeros((0), dtype = np.quaternion)\n",
    "    \n",
    "    # Step 1: P=0 -> a0 = 1\n",
    "    # Step 2: P=1\n",
    "    a_arr = np.append(a_arr, r_matrix[1,0] / r_matrix[1,1])\n",
    "\n",
    "    # Step 3: Iterative for P in (1 : M_order)\n",
    "    for i in range(1, M_order):\n",
    "        nominator   = r_matrix[i+1, 0] - np.sum(a_arr * r_matrix[i, :i])\n",
    "        denominator = r_matrix[i+1, i+1] - np.sum(a_arr[::-1] * r_matrix[i, :i])\n",
    "        temp_a = nominator / denominator\n",
    "        a_arr = np.append(a_arr, temp_\n",
    "                [r3, r2, r1, r0, r1],a)\n",
    "\n",
    "        # Coeff actualization \n",
    "        for j in range(i):\n",
    "            a_arr[j] = a_arr[j] - temp_a * a_arr[i-j-1]\n",
    "    \n",
    "    return a_arr"
   ]
  },
  {
   "cell_type": "code",
   "execution_count": 48,
   "metadata": {},
   "outputs": [
    {
     "name": "stdout",
     "output_type": "stream",
     "text": [
      "quaternion(0.302307340461122, 0.851957050390435, 0.302307340461122, 0.302307340461122)\n",
      "quaternion(0.841956598577331, -0.147246547419849, -0.507378151468536, -1.21020796698209)\n",
      "quaternion(-0.823464206709609, 0.267034270865349, 0.24357432273318, -0.437345341528406)\n",
      "quaternion(-0.729290173997296, 0.433234324317769, 0.479060458940425, 0.225709855840877)\n",
      "\n",
      "quaternion(0.472746918916626, 0.452192705050685, 0.513855346648506, 0.554963774380387)\n",
      "quaternion(-0.491420222192939, -0.554254412865143, -0.167856008626113, 0.650486411393404)\n"
     ]
    }
   ],
   "source": [
    "bbb = np.array([[r0, r1, r2, r3, r4], \n",
    "                [r1, r0, r1, r2, r3], \n",
    "                [r2, r1, r0, r1, r2],\n",
    "                [r3, r2, r1, r0, r1],\n",
    "                [r4, r3, r2, r1, r0]])\n",
    "\n",
    "a = compute_coefficient_LD(bbb, 3)\n",
    "print(r1)\n",
    "print(a[0] * r0)\n",
    "print((a[0] * r0 + a[1] * r1).normalized())\n",
    "print((a[0] * r0 + a[1] * r1 + a[2] * r2).normalized())\n",
    "\n",
    "print()\n",
    "print(r2)\n",
    "print((a[1] * r0 + a[0] * r1).normalized())\n",
    "\n",
    "\n"
   ]
  }
 ],
 "metadata": {
  "kernelspec": {
   "display_name": "Python 3.8.10 ('venv': venv)",
   "language": "python",
   "name": "python3"
  },
  "language_info": {
   "codemirror_mode": {
    "name": "ipython",
    "version": 3
   },
   "file_extension": ".py",
   "mimetype": "text/x-python",
   "name": "python",
   "nbconvert_exporter": "python",
   "pygments_lexer": "ipython3",
   "version": "3.8.10"
  },
  "orig_nbformat": 4,
  "vscode": {
   "interpreter": {
    "hash": "4799ffdaddeaedd4290fed8e984842a9668453a3ef44e7818f9d19e5e2def42c"
   }
  }
 },
 "nbformat": 4,
 "nbformat_minor": 2
}
