{
 "cells": [
  {
   "cell_type": "code",
   "execution_count": 1,
   "metadata": {},
   "outputs": [],
   "source": [
    "import numpy as np\n",
    "import quaternion as qt"
   ]
  },
  {
   "cell_type": "code",
   "execution_count": 2,
   "metadata": {},
   "outputs": [],
   "source": [
    "import random \n",
    "def rand_quaternion() -> np.quaternion:\n",
    "    \"\"\"\n",
    "        Generate random normalized quaternion\n",
    "    Returns:\n",
    "        np.quaternion: Normalized quaternion\n",
    "    \"\"\"\n",
    "    return np.quaternion(random.random(),\n",
    "                         random.random(),\n",
    "                         random.random(),\n",
    "                         random.random()).normalized()\n",
    "\n",
    "\n",
    "def rand_toeplitz_matrix(dim: int) -> np.ndarray:\n",
    "    \"\"\"\n",
    "        Generate random toeplitz quaternion matrix\n",
    "    Args:\n",
    "        dim (int): Dimension\n",
    "\n",
    "    Returns:\n",
    "        matrix (np.ndarray): Toeplitz quaternion matrix\n",
    "    \"\"\"\n",
    "    matrix = np.zeros((dim, dim), dtype = np.quaternion)\n",
    "    for i in range(dim):\n",
    "        val = rand_quaternion()\n",
    "        np.fill_diagonal(matrix[:,i:], val)\n",
    "        np.fill_diagonal(matrix[i:,:], val)\n",
    "    \n",
    "    return matrix"
   ]
  },
  {
   "cell_type": "markdown",
   "metadata": {},
   "source": [
    "## Poprawność wyznaczania współczynników"
   ]
  },
  {
   "cell_type": "code",
   "execution_count": 24,
   "metadata": {},
   "outputs": [
    {
     "name": "stdout",
     "output_type": "stream",
     "text": [
      "quaternion(0.231129455040279, 0.734557989770112, 0.405369327470666, 0.492625053183103)\n",
      "quaternion(0.231129455040279, 0.734557989770112, 0.405369327470666, 0.492625053183103)\n",
      "quaternion(0.022761417755675, 0.794553078153125, 0.280014900592163, 0.538292652100609)\n",
      "quaternion(0.0227614177556745, 0.794553078153125, 0.280014900592162, 0.538292652100609)\n",
      "quaternion(0.462706283006942, 0.831425382936465, 0.0266897957626295, 0.306467588950286)\n",
      "quaternion(0.462706283006942, 0.831425382936465, 0.0266897957626292, 0.306467588950286)\n",
      "quaternion(0.660994929709831, 0.0692188341961749, 0.713181105281712, 0.222861317773124)\n",
      "quaternion(0.660994929709832, 0.0692188341961746, 0.713181105281712, 0.222861317773124)\n",
      "quaternion(0.216333520694486, 0.62795578703222, 0.391292353167151, 0.636994216386293)\n",
      "quaternion(0.216333520694487, 0.62795578703222, 0.391292353167151, 0.636994216386293)\n",
      "quaternion(0.053571256032914, 0.00158230033764286, 0.0693150099436535, 0.996154127757953)\n",
      "quaternion(0.0535712560329139, 0.00158230033764206, 0.0693150099436532, 0.996154127757953)\n",
      "quaternion(0.321870876396677, 0.246755012581577, 0.436172317891773, 0.80328376791668)\n",
      "quaternion(0.321870876396677, 0.246755012581577, 0.436172317891772, 0.803283767916681)\n",
      "quaternion(0.385098744491427, 0.711931463224787, 0.272586127783769, 0.520143587484832)\n",
      "quaternion(0.385098744491427, 0.711931463224787, 0.272586127783769, 0.520143587484833)\n",
      "quaternion(0.50131760758024, 0.798560734822641, 0.298879550632092, 0.147147624321654)\n",
      "quaternion(0.50131760758024, 0.798560734822641, 0.298879550632093, 0.147147624321654)\n"
     ]
    }
   ],
   "source": [
    "import sys\n",
    "sys.path.append('../')\n",
    "from library.quaternion_pred import compute_coefficient_LD\n",
    "\n",
    "dim = 10\n",
    "\n",
    "matrix = rand_toeplitz_matrix(dim)\n",
    "a = compute_coefficient_LD(matrix, dim-1)\n",
    "\n",
    "\n",
    "for i in range(dim-1):\n",
    "    print(matrix[i+1,0])\n",
    "    print(np.sum(a*matrix[i,:dim-1]).normalized())\n"
   ]
  }
 ],
 "metadata": {
  "kernelspec": {
   "display_name": "Python 3.8.10 ('venv': venv)",
   "language": "python",
   "name": "python3"
  },
  "language_info": {
   "codemirror_mode": {
    "name": "ipython",
    "version": 3
   },
   "file_extension": ".py",
   "mimetype": "text/x-python",
   "name": "python",
   "nbconvert_exporter": "python",
   "pygments_lexer": "ipython3",
   "version": "3.8.10"
  },
  "orig_nbformat": 4,
  "vscode": {
   "interpreter": {
    "hash": "4799ffdaddeaedd4290fed8e984842a9668453a3ef44e7818f9d19e5e2def42c"
   }
  }
 },
 "nbformat": 4,
 "nbformat_minor": 2
}
